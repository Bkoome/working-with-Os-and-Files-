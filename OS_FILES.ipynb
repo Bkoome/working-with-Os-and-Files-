{
 "cells": [
  {
   "cell_type": "code",
   "execution_count": 2,
   "metadata": {},
   "outputs": [],
   "source": [
    "#Working with os and the file system\n",
    "import os"
   ]
  },
  {
   "cell_type": "code",
   "execution_count": 6,
   "metadata": {},
   "outputs": [
    {
     "name": "stdout",
     "output_type": "stream",
     "text": [
      "Help on built-in function listdir in module posix:\n",
      "\n",
      "listdir(path=None)\n",
      "    Return a list containing the names of the files in the directory.\n",
      "    \n",
      "    path can be specified as either str or bytes.  If path is bytes,\n",
      "      the filenames returned will also be bytes; in all other circumstances\n",
      "      the filenames returned will be str.\n",
      "    If path is None, uses the path='.'.\n",
      "    On some platforms, path may also be specified as an open file descriptor;\\\n",
      "      the file descriptor must refer to a directory.\n",
      "      If this functionality is unavailable, using it raises NotImplementedError.\n",
      "    \n",
      "    The list is in arbitrary order.  It does not include the special\n",
      "    entries '.' and '..' even if they are present in the directory.\n",
      "\n"
     ]
    }
   ],
   "source": [
    "help(os.listdir)"
   ]
  },
  {
   "cell_type": "code",
   "execution_count": 10,
   "metadata": {
    "scrolled": true
   },
   "outputs": [
    {
     "data": {
      "text/plain": [
       "'/home/koome'"
      ]
     },
     "execution_count": 10,
     "metadata": {},
     "output_type": "execute_result"
    }
   ],
   "source": [
    "os.getcwd() #current working directory"
   ]
  },
  {
   "cell_type": "code",
   "execution_count": 11,
   "metadata": {},
   "outputs": [
    {
     "data": {
      "text/plain": [
       "['Untitled15.ipynb',\n",
       " '.pki',\n",
       " 'Untitled5.ipynb',\n",
       " 'Untitled6.ipynb',\n",
       " 'Untitled7.ipynb',\n",
       " 'Documents',\n",
       " 'cd',\n",
       " 'my-project',\n",
       " 'Music',\n",
       " 'Untitled1.ipynb',\n",
       " 'google-chrome-stable_current_amd64.deb',\n",
       " 'Untitled12.ipynb',\n",
       " 'climate.txt',\n",
       " 'anaconda3',\n",
       " '.anaconda',\n",
       " 'Untitled4.ipynb',\n",
       " 'Untitled11.ipynb',\n",
       " '.jupyter',\n",
       " '_NUMPY__.ipynb',\n",
       " '.profile',\n",
       " 'Untitled9.ipynb',\n",
       " 'Downloads',\n",
       " 'finali_results.txt',\n",
       " '.lesshst',\n",
       " 'Untitled8.ipynb',\n",
       " 'Project_1',\n",
       " '.bash_logout',\n",
       " '.bashrc',\n",
       " 'snap',\n",
       " '.gitconfig',\n",
       " '.dotnet',\n",
       " '.atom',\n",
       " '.config',\n",
       " 'project_1',\n",
       " '.java',\n",
       " '.conda',\n",
       " '.condarc',\n",
       " 'Untitled3.ipynb',\n",
       " '.gnupg',\n",
       " 'Pictures',\n",
       " 'Public',\n",
       " 'data.txt',\n",
       " '.ipython',\n",
       " '.vscode',\n",
       " 'Untitled2.ipynb',\n",
       " '.ipynb_checkpoints',\n",
       " '.ssh',\n",
       " 'Untitled13.ipynb',\n",
       " 'Videos',\n",
       " 'Templates',\n",
       " 'Untitled.ipynb',\n",
       " '.local',\n",
       " 'Desktop',\n",
       " '.android',\n",
       " '.bash_history',\n",
       " '.cache',\n",
       " '.sudo_as_admin_successful',\n",
       " '.gnome',\n",
       " '.bashrc-anaconda3.bak',\n",
       " 'Untitled10.ipynb',\n",
       " 'Untitled14.ipynb']"
      ]
     },
     "execution_count": 11,
     "metadata": {},
     "output_type": "execute_result"
    }
   ],
   "source": [
    "os.listdir('.')#relative path"
   ]
  },
  {
   "cell_type": "code",
   "execution_count": 12,
   "metadata": {},
   "outputs": [
    {
     "data": {
      "text/plain": [
       "['bin',\n",
       " 'lib64',\n",
       " 'share',\n",
       " 'src',\n",
       " 'games',\n",
       " 'libexec',\n",
       " 'sbin',\n",
       " 'lib',\n",
       " 'lib32',\n",
       " 'local',\n",
       " 'libx32',\n",
       " 'include']"
      ]
     },
     "execution_count": 12,
     "metadata": {},
     "output_type": "execute_result"
    }
   ],
   "source": [
    "os.listdir('/usr') #absolute path"
   ]
  },
  {
   "cell_type": "code",
   "execution_count": 14,
   "metadata": {},
   "outputs": [],
   "source": [
    "os.makedirs('./THIS',exist_ok=True) # making a directory . means current directory"
   ]
  },
  {
   "cell_type": "code",
   "execution_count": null,
   "metadata": {},
   "outputs": [],
   "source": []
  },
  {
   "cell_type": "code",
   "execution_count": 15,
   "metadata": {},
   "outputs": [
    {
     "data": {
      "text/plain": [
       "['Untitled15.ipynb',\n",
       " '.pki',\n",
       " 'Untitled5.ipynb',\n",
       " 'Untitled6.ipynb',\n",
       " 'Untitled7.ipynb',\n",
       " 'Documents',\n",
       " 'cd',\n",
       " 'my-project',\n",
       " 'Music',\n",
       " 'Untitled1.ipynb',\n",
       " 'google-chrome-stable_current_amd64.deb',\n",
       " 'Untitled12.ipynb',\n",
       " 'climate.txt',\n",
       " 'anaconda3',\n",
       " '.anaconda',\n",
       " 'Untitled4.ipynb',\n",
       " 'Untitled11.ipynb',\n",
       " '.jupyter',\n",
       " '_NUMPY__.ipynb',\n",
       " '.profile',\n",
       " 'Untitled9.ipynb',\n",
       " 'Downloads',\n",
       " 'finali_results.txt',\n",
       " '.lesshst',\n",
       " 'Untitled8.ipynb',\n",
       " 'Project_1',\n",
       " '.bash_logout',\n",
       " '.bashrc',\n",
       " 'snap',\n",
       " '.gitconfig',\n",
       " '.dotnet',\n",
       " '.atom',\n",
       " '.config',\n",
       " 'project_1',\n",
       " '.java',\n",
       " '.conda',\n",
       " 'THIS',\n",
       " '.condarc',\n",
       " 'Untitled3.ipynb',\n",
       " '.gnupg',\n",
       " 'Pictures',\n",
       " 'Public',\n",
       " 'data.txt',\n",
       " '.ipython',\n",
       " '.vscode',\n",
       " 'Untitled2.ipynb',\n",
       " '.ipynb_checkpoints',\n",
       " '.ssh',\n",
       " 'Untitled13.ipynb',\n",
       " 'Videos',\n",
       " 'Templates',\n",
       " 'Untitled.ipynb',\n",
       " '.local',\n",
       " 'Desktop',\n",
       " '.android',\n",
       " '.bash_history',\n",
       " '.cache',\n",
       " '.sudo_as_admin_successful',\n",
       " '.gnome',\n",
       " '.bashrc-anaconda3.bak',\n",
       " 'Untitled10.ipynb',\n",
       " 'Untitled14.ipynb']"
      ]
     },
     "execution_count": 15,
     "metadata": {},
     "output_type": "execute_result"
    }
   ],
   "source": [
    "os.listdir('.')"
   ]
  },
  {
   "cell_type": "code",
   "execution_count": 17,
   "metadata": {},
   "outputs": [
    {
     "data": {
      "text/plain": [
       "True"
      ]
     },
     "execution_count": 17,
     "metadata": {},
     "output_type": "execute_result"
    }
   ],
   "source": [
    "'THIS' in os.listdir('.') # check if the directory was created"
   ]
  },
  {
   "cell_type": "code",
   "execution_count": 25,
   "metadata": {},
   "outputs": [],
   "source": [
    "#library that facilitates downloading \n",
    "import urllib.request"
   ]
  },
  {
   "cell_type": "code",
   "execution_count": 26,
   "metadata": {},
   "outputs": [],
   "source": [
    "link1 = 'https://gist.githubusercontent.com/aakashns/257f6e6c8719c17d0e498ea287d1a386/raw/7def9ef4234ddf0bc82f855ad67dac8b971852ef/loans1.txt'\n",
    "link2 = 'https://gist.githubusercontent.com/aakashns/257f6e6c8719c17d0e498ea287d1a386/raw/7def9ef4234ddf0bc82f855ad67dac8b971852ef/loans2.txt'\n",
    "link3 = 'https://gist.githubusercontent.com/aakashns/257f6e6c8719c17d0e498ea287d1a386/raw/7def9ef4234ddf0bc82f855ad67dac8b971852ef/loans3.txt'"
   ]
  },
  {
   "cell_type": "code",
   "execution_count": 28,
   "metadata": {},
   "outputs": [
    {
     "data": {
      "text/plain": [
       "('./THIS/TABLE_1.txt', <http.client.HTTPMessage at 0x7f5432e67a90>)"
      ]
     },
     "execution_count": 28,
     "metadata": {},
     "output_type": "execute_result"
    }
   ],
   "source": [
    "#dowloading using the link\n",
    "urllib.request.urlretrieve(link1, './THIS/TABLE_1.txt')"
   ]
  },
  {
   "cell_type": "code",
   "execution_count": 29,
   "metadata": {},
   "outputs": [
    {
     "data": {
      "text/plain": [
       "('./THIS/TABLE_2.txt', <http.client.HTTPMessage at 0x7f5432b7f358>)"
      ]
     },
     "execution_count": 29,
     "metadata": {},
     "output_type": "execute_result"
    }
   ],
   "source": [
    "urllib.request.urlretrieve(link2, './THIS/TABLE_2.txt')"
   ]
  },
  {
   "cell_type": "code",
   "execution_count": 30,
   "metadata": {},
   "outputs": [
    {
     "data": {
      "text/plain": [
       "('./THIS/TABLE_3.txt', <http.client.HTTPMessage at 0x7f5432b7f780>)"
      ]
     },
     "execution_count": 30,
     "metadata": {},
     "output_type": "execute_result"
    }
   ],
   "source": [
    "urllib.request.urlretrieve(link3, './THIS/TABLE_3.txt')"
   ]
  },
  {
   "cell_type": "code",
   "execution_count": 31,
   "metadata": {},
   "outputs": [
    {
     "data": {
      "text/plain": [
       "['TABLE_1.txt', 'TABLE_3.txt', 'TABLE_2.txt']"
      ]
     },
     "execution_count": 31,
     "metadata": {},
     "output_type": "execute_result"
    }
   ],
   "source": [
    "#checking if it was downloaded in the THIS directory\n",
    "os.listdir('./THIS')"
   ]
  },
  {
   "cell_type": "code",
   "execution_count": 47,
   "metadata": {},
   "outputs": [],
   "source": [
    "# to read from file\n",
    "file1=open('./THIS/TABLE_1.txt', mode='r')"
   ]
  },
  {
   "cell_type": "code",
   "execution_count": 49,
   "metadata": {},
   "outputs": [
    {
     "data": {
      "text/plain": [
       "'amount,duration,rate,down_payment\\n100000,36,0.08,20000\\n200000,12,0.1,\\n628400,120,0.12,100000\\n4637400,240,0.06,\\n42900,90,0.07,8900\\n916000,16,0.13,\\n45230,48,0.08,4300\\n991360,99,0.08,\\n423000,27,0.09,47200'"
      ]
     },
     "execution_count": 49,
     "metadata": {},
     "output_type": "execute_result"
    }
   ],
   "source": [
    "file1.read()"
   ]
  },
  {
   "cell_type": "code",
   "execution_count": 50,
   "metadata": {},
   "outputs": [],
   "source": [
    "read1=file1.read()"
   ]
  },
  {
   "cell_type": "code",
   "execution_count": 52,
   "metadata": {},
   "outputs": [
    {
     "name": "stdout",
     "output_type": "stream",
     "text": [
      "\n"
     ]
    }
   ],
   "source": [
    "print(read1)"
   ]
  },
  {
   "cell_type": "code",
   "execution_count": 57,
   "metadata": {},
   "outputs": [],
   "source": [
    "file1.close()"
   ]
  },
  {
   "cell_type": "code",
   "execution_count": 58,
   "metadata": {},
   "outputs": [],
   "source": [
    "file2=open('./THIS/TABLE_2.txt', mode='r')"
   ]
  },
  {
   "cell_type": "code",
   "execution_count": 59,
   "metadata": {},
   "outputs": [
    {
     "data": {
      "text/plain": [
       "'amount,duration,rate,down_payment\\n828400,120,0.11,100000\\n4633400,240,0.06,\\n42900,90,0.08,8900\\n983000,16,0.14,\\n15230,48,0.07,4300'"
      ]
     },
     "execution_count": 59,
     "metadata": {},
     "output_type": "execute_result"
    }
   ],
   "source": [
    "file2.read()"
   ]
  },
  {
   "cell_type": "code",
   "execution_count": null,
   "metadata": {},
   "outputs": [],
   "source": []
  },
  {
   "cell_type": "code",
   "execution_count": 60,
   "metadata": {},
   "outputs": [],
   "source": [
    "read2=file2.read()"
   ]
  },
  {
   "cell_type": "code",
   "execution_count": 64,
   "metadata": {},
   "outputs": [
    {
     "data": {
      "text/plain": [
       "''"
      ]
     },
     "execution_count": 64,
     "metadata": {},
     "output_type": "execute_result"
    }
   ],
   "source": [
    "read2"
   ]
  },
  {
   "cell_type": "code",
   "execution_count": null,
   "metadata": {},
   "outputs": [],
   "source": [
    "file2.close()"
   ]
  },
  {
   "cell_type": "code",
   "execution_count": 66,
   "metadata": {},
   "outputs": [
    {
     "name": "stdout",
     "output_type": "stream",
     "text": [
      "amount,duration,rate,down_payment\n",
      "45230,48,0.07,4300\n",
      "883000,16,0.14,\n",
      "100000,12,0.1,\n",
      "728400,120,0.12,100000\n",
      "3637400,240,0.06,\n",
      "82900,90,0.07,8900\n",
      "316000,16,0.13,\n",
      "15230,48,0.08,4300\n",
      "991360,99,0.08,\n",
      "323000,27,0.09,4720010000,36,0.08,20000\n",
      "528400,120,0.11,100000\n",
      "8633400,240,0.06,\n",
      "12900,90,0.08,8900\n"
     ]
    }
   ],
   "source": [
    "#open while closing it....the above opened and required closing after the end\n",
    "with open('./THIS/TABLE_3.txt')as file3:\n",
    "    file3_contents=file3.read()\n",
    "    print(file3_contents)"
   ]
  },
  {
   "cell_type": "code",
   "execution_count": 67,
   "metadata": {},
   "outputs": [
    {
     "name": "stdout",
     "output_type": "stream",
     "text": [
      "amount,duration,rate,down_payment\n",
      "100000,36,0.08,20000\n",
      "200000,12,0.1,\n",
      "628400,120,0.12,100000\n",
      "4637400,240,0.06,\n",
      "42900,90,0.07,8900\n",
      "916000,16,0.13,\n",
      "45230,48,0.08,4300\n",
      "991360,99,0.08,\n",
      "423000,27,0.09,47200\n"
     ]
    }
   ],
   "source": [
    "with open('./THIS/TABLE_1.txt') as abc:\n",
    "    reed1=abc.read()\n",
    "    print(reed1)"
   ]
  },
  {
   "cell_type": "code",
   "execution_count": 71,
   "metadata": {},
   "outputs": [
    {
     "ename": "ValueError",
     "evalue": "I/O operation on closed file.",
     "output_type": "error",
     "traceback": [
      "\u001b[0;31m---------------------------------------------------------------------------\u001b[0m",
      "\u001b[0;31mValueError\u001b[0m                                Traceback (most recent call last)",
      "\u001b[0;32m<ipython-input-71-56bc6a38a02d>\u001b[0m in \u001b[0;36m<module>\u001b[0;34m()\u001b[0m\n\u001b[0;32m----> 1\u001b[0;31m \u001b[0mabc\u001b[0m\u001b[0;34m.\u001b[0m\u001b[0mread\u001b[0m\u001b[0;34m(\u001b[0m\u001b[0;34m)\u001b[0m\u001b[0;34m\u001b[0m\u001b[0m\n\u001b[0m",
      "\u001b[0;31mValueError\u001b[0m: I/O operation on closed file."
     ]
    }
   ],
   "source": [
    "abc.read() # cannot read since it is closed"
   ]
  },
  {
   "cell_type": "code",
   "execution_count": 72,
   "metadata": {},
   "outputs": [
    {
     "name": "stdout",
     "output_type": "stream",
     "text": [
      "['amount,duration,rate,down_payment\\n', '45230,48,0.07,4300\\n', '883000,16,0.14,\\n', '100000,12,0.1,\\n', '728400,120,0.12,100000\\n', '3637400,240,0.06,\\n', '82900,90,0.07,8900\\n', '316000,16,0.13,\\n', '15230,48,0.08,4300\\n', '991360,99,0.08,\\n', '323000,27,0.09,4720010000,36,0.08,20000\\n', '528400,120,0.11,100000\\n', '8633400,240,0.06,\\n', '12900,90,0.08,8900']\n"
     ]
    }
   ],
   "source": [
    "# reading line by line\n",
    "with open('./THIS/TABLE_3.txt','r') as f3:\n",
    "    f3lines=f3.readlines()\n",
    "    #print(f3lines)"
   ]
  },
  {
   "cell_type": "code",
   "execution_count": 75,
   "metadata": {},
   "outputs": [
    {
     "data": {
      "text/plain": [
       "'amount,duration,rate,down_payment'"
      ]
     },
     "execution_count": 75,
     "metadata": {},
     "output_type": "execute_result"
    }
   ],
   "source": [
    "#f3lines strips removes the spaces and the new line character\n",
    "f3lines[0].strip()"
   ]
  },
  {
   "cell_type": "code",
   "execution_count": 89,
   "metadata": {},
   "outputs": [],
   "source": [
    "fill3= open('./THIS/TABLE_2.txt','r')\n",
    "fll3lines=fill3.readlines()"
   ]
  },
  {
   "cell_type": "code",
   "execution_count": 90,
   "metadata": {},
   "outputs": [
    {
     "ename": "NameError",
     "evalue": "name 'fill3lines' is not defined",
     "output_type": "error",
     "traceback": [
      "\u001b[0;31m---------------------------------------------------------------------------\u001b[0m",
      "\u001b[0;31mNameError\u001b[0m                                 Traceback (most recent call last)",
      "\u001b[0;32m<ipython-input-90-2c8b155ea1aa>\u001b[0m in \u001b[0;36m<module>\u001b[0;34m()\u001b[0m\n\u001b[0;32m----> 1\u001b[0;31m \u001b[0mfill3lines\u001b[0m\u001b[0;34m\u001b[0m\u001b[0m\n\u001b[0m",
      "\u001b[0;31mNameError\u001b[0m: name 'fill3lines' is not defined"
     ]
    }
   ],
   "source": [
    "fill3lines"
   ]
  },
  {
   "cell_type": "code",
   "execution_count": 80,
   "metadata": {},
   "outputs": [],
   "source": [
    "#processing data\n",
    "def header_parse(header_line):\n",
    "    return header_line.strip().split(',')"
   ]
  },
  {
   "cell_type": "code",
   "execution_count": null,
   "metadata": {},
   "outputs": [],
   "source": []
  },
  {
   "cell_type": "raw",
   "metadata": {},
   "source": [
    "data1=open('./THIS/TABLE_3.txt')\n",
    "data1read=data1.readlines()"
   ]
  },
  {
   "cell_type": "code",
   "execution_count": 96,
   "metadata": {},
   "outputs": [
    {
     "data": {
      "text/plain": [
       "'amount,duration,rate,down_payment\\n'"
      ]
     },
     "execution_count": 96,
     "metadata": {},
     "output_type": "execute_result"
    }
   ],
   "source": [
    "data1read[0]"
   ]
  },
  {
   "cell_type": "code",
   "execution_count": 97,
   "metadata": {},
   "outputs": [],
   "source": [
    " headers= header_parse(data1read[0])"
   ]
  },
  {
   "cell_type": "code",
   "execution_count": 98,
   "metadata": {},
   "outputs": [
    {
     "data": {
      "text/plain": [
       "['amount', 'duration', 'rate', 'down_payment']"
      ]
     },
     "execution_count": 98,
     "metadata": {},
     "output_type": "execute_result"
    }
   ],
   "source": [
    "headers"
   ]
  },
  {
   "cell_type": "code",
   "execution_count": 111,
   "metadata": {},
   "outputs": [],
   "source": [
    "def parse_values(data_lines):\n",
    "    values=[]\n",
    "    for item in data_lines.strip().split(','):\n",
    "        if item=='':\n",
    "            values.append(0.0)\n",
    "        else:\n",
    "            values.append(float(item))\n",
    "    return values"
   ]
  },
  {
   "cell_type": "code",
   "execution_count": 112,
   "metadata": {},
   "outputs": [
    {
     "data": {
      "text/plain": [
       "'45230,48,0.07,4300\\n'"
      ]
     },
     "execution_count": 112,
     "metadata": {},
     "output_type": "execute_result"
    }
   ],
   "source": [
    "#use the ones complete table\n",
    "data1read[1]"
   ]
  },
  {
   "cell_type": "code",
   "execution_count": 113,
   "metadata": {},
   "outputs": [],
   "source": [
    "value1=parse_values(data1read[1])"
   ]
  },
  {
   "cell_type": "code",
   "execution_count": 114,
   "metadata": {},
   "outputs": [
    {
     "data": {
      "text/plain": [
       "[45230.0, 48.0, 0.07, 4300.0]"
      ]
     },
     "execution_count": 114,
     "metadata": {},
     "output_type": "execute_result"
    }
   ],
   "source": [
    "value1"
   ]
  },
  {
   "cell_type": "code",
   "execution_count": 116,
   "metadata": {},
   "outputs": [
    {
     "data": {
      "text/plain": [
       "[883000.0, 16.0, 0.14, 0.0]"
      ]
     },
     "execution_count": 116,
     "metadata": {},
     "output_type": "execute_result"
    }
   ],
   "source": [
    "parse_values(data1read[2])"
   ]
  },
  {
   "cell_type": "code",
   "execution_count": 118,
   "metadata": {},
   "outputs": [],
   "source": [
    "def item_dictionary(values, headers):\n",
    "    results={}\n",
    "    for value, header in zip(values, headers):\n",
    "        results[header]=value\n",
    "    return results"
   ]
  },
  {
   "cell_type": "code",
   "execution_count": 119,
   "metadata": {},
   "outputs": [
    {
     "data": {
      "text/plain": [
       "[45230.0, 48.0, 0.07, 4300.0]"
      ]
     },
     "execution_count": 119,
     "metadata": {},
     "output_type": "execute_result"
    }
   ],
   "source": [
    "value1"
   ]
  },
  {
   "cell_type": "code",
   "execution_count": 120,
   "metadata": {},
   "outputs": [
    {
     "data": {
      "text/plain": [
       "['amount', 'duration', 'rate', 'down_payment']"
      ]
     },
     "execution_count": 120,
     "metadata": {},
     "output_type": "execute_result"
    }
   ],
   "source": [
    "headers"
   ]
  },
  {
   "cell_type": "code",
   "execution_count": 123,
   "metadata": {},
   "outputs": [
    {
     "data": {
      "text/plain": [
       "{'amount': 45230.0, 'duration': 48.0, 'rate': 0.07, 'down_payment': 4300.0}"
      ]
     },
     "execution_count": 123,
     "metadata": {},
     "output_type": "execute_result"
    }
   ],
   "source": [
    "item_dictionary(value1, headers)"
   ]
  },
  {
   "cell_type": "code",
   "execution_count": 142,
   "metadata": {},
   "outputs": [],
   "source": [
    "# read csv file\n",
    "def read_csv(path):\n",
    "    results=[]\n",
    "    with open (path, 'r' ) as file:\n",
    "        lines=file.readlines()\n",
    "        headers=header_parse(lines[0])\n",
    "        for lines_data in lines [1:]:\n",
    "            values=parse_values(lines_data)\n",
    "            all_dictionary= item_dictionary(values, headers)\n",
    "            results.append(all_dictionary)\n",
    "    return results\n",
    "            \n",
    "    "
   ]
  },
  {
   "cell_type": "code",
   "execution_count": 143,
   "metadata": {},
   "outputs": [
    {
     "name": "stdout",
     "output_type": "stream",
     "text": [
      "amount,duration,rate,down_payment\n",
      "100000,36,0.08,20000\n",
      "200000,12,0.1,\n",
      "628400,120,0.12,100000\n",
      "4637400,240,0.06,\n",
      "42900,90,0.07,8900\n",
      "916000,16,0.13,\n",
      "45230,48,0.08,4300\n",
      "991360,99,0.08,\n",
      "423000,27,0.09,47200\n"
     ]
    }
   ],
   "source": [
    "with open('./THIS/TABLE_1.txt') as filee:\n",
    "    print(filee.read())"
   ]
  },
  {
   "cell_type": "code",
   "execution_count": 144,
   "metadata": {},
   "outputs": [
    {
     "data": {
      "text/plain": [
       "[{'amount': 100000.0, 'duration': 36.0, 'rate': 0.08, 'down_payment': 20000.0},\n",
       " {'amount': 200000.0, 'duration': 12.0, 'rate': 0.1, 'down_payment': 0.0},\n",
       " {'amount': 628400.0,\n",
       "  'duration': 120.0,\n",
       "  'rate': 0.12,\n",
       "  'down_payment': 100000.0},\n",
       " {'amount': 4637400.0, 'duration': 240.0, 'rate': 0.06, 'down_payment': 0.0},\n",
       " {'amount': 42900.0, 'duration': 90.0, 'rate': 0.07, 'down_payment': 8900.0},\n",
       " {'amount': 916000.0, 'duration': 16.0, 'rate': 0.13, 'down_payment': 0.0},\n",
       " {'amount': 45230.0, 'duration': 48.0, 'rate': 0.08, 'down_payment': 4300.0},\n",
       " {'amount': 991360.0, 'duration': 99.0, 'rate': 0.08, 'down_payment': 0.0},\n",
       " {'amount': 423000.0, 'duration': 27.0, 'rate': 0.09, 'down_payment': 47200.0}]"
      ]
     },
     "execution_count": 144,
     "metadata": {},
     "output_type": "execute_result"
    }
   ],
   "source": [
    "read_csv('./THIS/TABLE_1.txt')"
   ]
  },
  {
   "cell_type": "code",
   "execution_count": null,
   "metadata": {},
   "outputs": [],
   "source": []
  }
 ],
 "metadata": {
  "kernelspec": {
   "display_name": "Python 3",
   "language": "python",
   "name": "python3"
  },
  "language_info": {
   "codemirror_mode": {
    "name": "ipython",
    "version": 3
   },
   "file_extension": ".py",
   "mimetype": "text/x-python",
   "name": "python",
   "nbconvert_exporter": "python",
   "pygments_lexer": "ipython3",
   "version": "3.7.0"
  }
 },
 "nbformat": 4,
 "nbformat_minor": 2
}
